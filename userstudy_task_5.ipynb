{
 "cells": [
  {
   "cell_type": "markdown",
   "metadata": {},
   "source": [
    "# Task 5 Your own Plot\n",
    "\n",
    "You can now try to serialize your own plot and see what works and what doesn't.\n",
    "\n",
    "\n",
    "> Do not try to fix Warnign like **\"is not supported by PlotSerializer!\"** as they just tell you that the current methode is not yet supported by Plotserializer\n",
    "\n",
    "> You can find the Plotserializer documentation [here](https://mt.gg/temp_plotserializer_docs/)."
   ]
  },
  {
   "cell_type": "code",
   "execution_count": 2,
   "metadata": {},
   "outputs": [
    {
     "name": "stderr",
     "output_type": "stream",
     "text": [
      "WARNING:root:['plots'] is not set for Figure object.\n"
     ]
    }
   ],
   "source": [
    "from plot_serializer.matplotlib.serializer import MatplotlibSerializer\n",
    "serializer = MatplotlibSerializer()\n",
    "# ---\n",
    "\n",
    "import matplotlib.pyplot as plt\n",
    "import numpy as np\n",
    "\n",
    "# playground\n",
    "\n",
    "# ---\n",
    "serializer.write_json_file(\"userstudy.json\")"
   ]
  }
 ],
 "metadata": {
  "kernelspec": {
   "display_name": "env",
   "language": "python",
   "name": "python3"
  },
  "language_info": {
   "codemirror_mode": {
    "name": "ipython",
    "version": 3
   },
   "file_extension": ".py",
   "mimetype": "text/x-python",
   "name": "python",
   "nbconvert_exporter": "python",
   "pygments_lexer": "ipython3",
   "version": "3.10.6"
  }
 },
 "nbformat": 4,
 "nbformat_minor": 2
}
